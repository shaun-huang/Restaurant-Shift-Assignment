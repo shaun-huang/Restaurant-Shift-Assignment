{
 "cells": [
  {
   "cell_type": "markdown",
   "metadata": {},
   "source": [
    "## Preparing Data"
   ]
  },
  {
   "cell_type": "code",
   "execution_count": 2,
   "metadata": {},
   "outputs": [
    {
     "name": "stdout",
     "output_type": "stream",
     "text": [
      "Collecting gurobipy\n"
     ]
    },
    {
     "name": "stderr",
     "output_type": "stream",
     "text": [
      "  Could not find a version that satisfies the requirement gurobipy (from versions: )\n",
      "No matching distribution found for gurobipy\n"
     ]
    },
    {
     "ename": "ModuleNotFoundError",
     "evalue": "No module named 'gurobipy'",
     "output_type": "error",
     "traceback": [
      "\u001b[1;31m---------------------------------------------------------------------------\u001b[0m",
      "\u001b[1;31mModuleNotFoundError\u001b[0m                       Traceback (most recent call last)",
      "\u001b[1;32m<ipython-input-2-e32661594b6d>\u001b[0m in \u001b[0;36m<module>\u001b[1;34m\u001b[0m\n\u001b[0;32m      6\u001b[0m \u001b[1;32mimport\u001b[0m \u001b[0mpandas\u001b[0m \u001b[1;32mas\u001b[0m \u001b[0mpd\u001b[0m\u001b[1;33m\u001b[0m\u001b[1;33m\u001b[0m\u001b[0m\n\u001b[0;32m      7\u001b[0m \u001b[1;32mimport\u001b[0m \u001b[0mnumpy\u001b[0m \u001b[1;32mas\u001b[0m \u001b[0mnp\u001b[0m\u001b[1;33m\u001b[0m\u001b[1;33m\u001b[0m\u001b[0m\n\u001b[1;32m----> 8\u001b[1;33m \u001b[1;32mfrom\u001b[0m \u001b[0mgurobipy\u001b[0m \u001b[1;32mimport\u001b[0m \u001b[1;33m*\u001b[0m\u001b[1;33m\u001b[0m\u001b[1;33m\u001b[0m\u001b[0m\n\u001b[0m\u001b[0;32m      9\u001b[0m \u001b[1;33m\u001b[0m\u001b[0m\n\u001b[0;32m     10\u001b[0m \u001b[1;31m## Create a list of workers and shifts\u001b[0m\u001b[1;33m\u001b[0m\u001b[1;33m\u001b[0m\u001b[1;33m\u001b[0m\u001b[0m\n",
      "\u001b[1;31mModuleNotFoundError\u001b[0m: No module named 'gurobipy'"
     ]
    }
   ],
   "source": [
    "## Install gurobipy\n",
    "\n",
    "\n",
    "## Import required packages\n",
    "import pandas as pd\n",
    "import numpy as np\n",
    "from gurobipy import *\n",
    "\n",
    "## Create a list of workers and shifts\n",
    "shiftList = ['Monday1','Monday2','Tuesday1','Tuesday2','Wednesday1','Wednesday2'\n",
    "             ,'Thursday1','Thursday2','Friday1','Friday2','Saturday1','Saturday2','Sunday1','Sunday2']\n",
    "workerList = ['EE01','EE02','EE03','EE04','EE05','EE06','EE07','EE08','EE09','EE10']\n",
    "\n",
    "## Define shift requirements\n",
    "shiftReq = [3,2,4,4,5,4,5,4,2,4,5,4,3,5]\n",
    "shiftRequirements  = { s : shiftReq[i] for i,s in enumerate(shiftList) }\n",
    "\n",
    "## Clarify worker availability\n",
    "# Assume everyone is available\n",
    "availability = pd.DataFrame(np.ones((len(workerList), len(shiftList))), index=workerList, columns=shiftList)\n",
    "# For illustration, assume following people are unavailable: EE02 on Tuesday1, EE05 on Saturday2, EE08 on Thursday1\n",
    "availability.at['EE02','Tuesday1'] = 0\n",
    "availability.at['EE05','Saturday2'] = 0\n",
    "availability.at['EE08','Thursday1'] = 0\n",
    "# Create dictionary of final worker availability\n",
    "avail = {(w,s) : availability.loc[w,s] for w in workerList for s in shiftList}\n",
    "\n",
    "## Specify who is a manager and who isn't\n",
    "mgmtList = ['EE01','EE03','EE05','EE07']\n",
    "nonmgmtList = [x for x in workerList if x not in mgmtList]\n",
    "\n",
    "## Define total shift cost per worker\n",
    "# Cost of a regular shift\n",
    "regCost = [200,100,225,110,190,105,210,120,95,100]\n",
    "# Cost of overtime shift\n",
    "OTCost = [1.5*x for x in regCost]\n",
    "# Create dictionaries with costs\n",
    "regularCost  = { w : regCost[i] for i,w in enumerate(workerList) }\n",
    "overtimeCost  = { w : OTCost[i] for i,w in enumerate(workerList) }\n",
    "\n",
    "## Input assumptions\n",
    "# Range of shifts that every workers is required to stay between\n",
    "minShifts = 3\n",
    "maxShifts = 7\n",
    "# Number of shifts to trigger overtime\n",
    "OTTrigger = 5\n"
   ]
  },
  {
   "cell_type": "markdown",
   "metadata": {},
   "source": [
    "## Initialize Model"
   ]
  },
  {
   "cell_type": "code",
   "execution_count": null,
   "metadata": {},
   "outputs": [],
   "source": [
    "model = Model(\"Workers Scheduling\")\n",
    "# ub ensures that workers are only staffed when they are available\n",
    "x = model.addVars(workerList, shiftList, ub=avail, vtype=GRB.BINARY, name='x')\n",
    "\n",
    "regHours = model.addVars(workerList, name='regHrs')\n",
    "overtimeHours = model.addVars(workerList, name='overtimeHrs')\n",
    "overtimeTrigger = model.addVars(workerList, name = \"OT_Trigger\", vtype = GRB.BINARY)\n",
    "\n",
    "# Differentiate between regular time and overtime\n",
    "\n",
    "## Decompose total shifts for each worker into regular shifts and OT shifts\n",
    "regOT1 = model.addConstrs((regHours[w] + overtimeHours[w] == x.sum(w,'*') for w in workerList))\n",
    "## Ensure that regular shifts are accounted for first for each nurse before counting OT shifts\n",
    "regOT2 = model.addConstrs((regHours[w] <= OTTrigger for w in workerList))\n",
    "## Only allow the OT trigger to come on when regular shift count is greater than regular shift limit\n",
    "regOT3 = model.addConstrs((regHours[w] / OTTrigger >= overtimeTrigger[w] for w in workerList))\n",
    "\n",
    "## Ensure each worker stays within min and max shift bounds\n",
    "\n",
    "minShiftsConstr = model.addConstrs(((\n",
    "    x.sum(w,'*') >= minShifts for w in workerList)\n",
    "), name='minShifts')\n",
    "\n",
    "maxShiftsConstr = model.addConstrs(((\n",
    "    x.sum(w,'*') <= maxShifts for w in workerList)\n",
    "), name='maxShifts')\n",
    "\n",
    "## Ensure every shift has at least one manager\n",
    "\n",
    "for s in shiftList:\n",
    "    model.addConstr((quicksum(x.sum(m,s) for m in mgmtList) >= 1), name='mgmtStaffing'+str(s))"
   ]
  },
  {
   "cell_type": "markdown",
   "metadata": {},
   "source": [
    "## Add Constraints"
   ]
  },
  {
   "cell_type": "code",
   "execution_count": null,
   "metadata": {},
   "outputs": [],
   "source": [
    "# Ensure proper number of workers are scheduled\n",
    "\n",
    "shiftReq = model.addConstrs((\n",
    "    (x.sum('*',s) == shiftRequirements[s] for s in shiftList)\n",
    "), name='shiftRequirement')"
   ]
  },
  {
   "cell_type": "markdown",
   "metadata": {},
   "source": [
    "## Define the Objective Function"
   ]
  },
  {
   "cell_type": "code",
   "execution_count": null,
   "metadata": {},
   "outputs": [],
   "source": [
    "# Minimize total cost, accounting for pay difference between regular time and overtime\n",
    "\n",
    "model.ModelSense = GRB.MINIMIZE\n",
    "\n",
    "Cost = 0\n",
    "Cost += (quicksum(regularCost[w]*regHours[w] + overtimeCost[w]*overtimeHours[w] for w in workerList))\n",
    "\n",
    "model.setObjective(Cost)"
   ]
  },
  {
   "cell_type": "markdown",
   "metadata": {},
   "source": [
    "## Run the Model"
   ]
  },
  {
   "cell_type": "code",
   "execution_count": null,
   "metadata": {},
   "outputs": [],
   "source": [
    "model.write(\"Optimized_Scheduling.lp\")\n",
    "file = open(\"Optimized_Scheduling.lp\", 'r')\n",
    "print(file.read())\n",
    "file.close()"
   ]
  },
  {
   "cell_type": "markdown",
   "metadata": {},
   "source": [
    "## Output"
   ]
  },
  {
   "cell_type": "code",
   "execution_count": null,
   "metadata": {},
   "outputs": [],
   "source": [
    "\n",
    "sol = pd.DataFrame(data={'Solution':model.X}, index=model.VarName)\n",
    "sol = sol.iloc[0:len(x)]\n",
    "\n",
    "dashboard = pd.DataFrame(index = workerList, columns = shiftList)\n",
    "for w in workerList:\n",
    "    for s in shiftList:\n",
    "        dashboard.at[w,s] = sol.loc['x['+w+','+s+']',][0]\n",
    "        \n",
    "dashboard"
   ]
  }
 ],
 "metadata": {
  "kernelspec": {
   "display_name": "Python 3",
   "language": "python",
   "name": "python3"
  },
  "language_info": {
   "codemirror_mode": {
    "name": "ipython",
    "version": 3
   },
   "file_extension": ".py",
   "mimetype": "text/x-python",
   "name": "python",
   "nbconvert_exporter": "python",
   "pygments_lexer": "ipython3",
   "version": "3.7.3"
  }
 },
 "nbformat": 4,
 "nbformat_minor": 2
}
